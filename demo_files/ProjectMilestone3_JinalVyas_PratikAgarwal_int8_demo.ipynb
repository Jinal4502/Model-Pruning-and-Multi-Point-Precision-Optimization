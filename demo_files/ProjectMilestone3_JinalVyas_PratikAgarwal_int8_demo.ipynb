{
  "cells": [
    {
      "cell_type": "markdown",
      "metadata": {},
      "source": [
        "NOTE -> The right side python files are the main source files.\n",
        "\n",
        "These .ipynb notebooks are just for demo purpose, they don't include the calculation of \n",
        "top - 5 accuracy because it is time consuming for the time frame of demo.\n",
        "\n",
        "This demo includes running implementation on CPU. The detailed results for both CPU and GPU\n",
        "utilization are attached in the report.\n",
        "\n",
        "For this demo purpose, I am testing inference on one single image and comparing its output classes' probability. In the report I have attached results for Imagenet1k validation set containing 1000 validation images\n",
        "\n",
        "Also, the inference time might differ from the one mentioned in the report, because while giving final runs, I ensured that no background processes are running, which as you can see is not the case currently, the vscode environment, recorder and a few other functionalities are on."
      ]
    },
    {
      "cell_type": "code",
      "execution_count": 117,
      "metadata": {
        "colab": {
          "base_uri": "https://localhost:8080/"
        },
        "id": "B80np2RkpoP_",
        "outputId": "82cc36ae-3ce2-4291-f3d5-69c3db7853be"
      },
      "outputs": [],
      "source": [
        "import torch\n",
        "import torch.nn.utils.prune as prune\n",
        "import torchvision.models as models\n",
        "import torchvision.transforms as transforms\n",
        "from PIL import Image\n",
        "import time\n",
        "import psutil\n",
        "import os\n",
        "import copy\n",
        "import torch.nn as nn\n",
        "from torchvision.models.resnet import BasicBlock\n",
        "from torch.ao.quantization.fake_quantize import FakeQuantize\n",
        "from torch import Tensor\n",
        "from typing import Any, Callable, List, Optional, Type, Union\n",
        "\n",
        "# 1. Load pretrained ResNet-18\n",
        "model = models.resnet18(pretrained=True)\n",
        "model.eval()\n",
        "\n",
        "# 4. Prepare a dummy input\n",
        "transform = transforms.Compose([\n",
        "    transforms.Resize((224, 224)),\n",
        "    transforms.ToTensor(),\n",
        "])\n",
        "\n",
        "img = Image.open(\"/Users/jjvyas1/Downloads/mla_project/n01443537_goldfish.JPEG\").convert(\"RGB\")  # replace with a real image path\n",
        "input_tensor = transform(img).unsqueeze(0)  # batch dimension"
      ]
    },
    {
      "cell_type": "code",
      "execution_count": 118,
      "metadata": {
        "colab": {
          "base_uri": "https://localhost:8080/"
        },
        "id": "PsSplzkQBD-K",
        "outputId": "141b323e-2a03-4b94-bc2a-d0858681ecca"
      },
      "outputs": [
        {
          "data": {
            "text/plain": [
              "ResNet(\n",
              "  (conv1): Conv2d(3, 64, kernel_size=(7, 7), stride=(2, 2), padding=(3, 3), bias=False)\n",
              "  (bn1): BatchNorm2d(64, eps=1e-05, momentum=0.1, affine=True, track_running_stats=True)\n",
              "  (relu): ReLU(inplace=True)\n",
              "  (maxpool): MaxPool2d(kernel_size=3, stride=2, padding=1, dilation=1, ceil_mode=False)\n",
              "  (layer1): Sequential(\n",
              "    (0): BasicBlock(\n",
              "      (conv1): Conv2d(64, 64, kernel_size=(3, 3), stride=(1, 1), padding=(1, 1), bias=False)\n",
              "      (bn1): BatchNorm2d(64, eps=1e-05, momentum=0.1, affine=True, track_running_stats=True)\n",
              "      (relu): ReLU(inplace=True)\n",
              "      (conv2): Conv2d(64, 64, kernel_size=(3, 3), stride=(1, 1), padding=(1, 1), bias=False)\n",
              "      (bn2): BatchNorm2d(64, eps=1e-05, momentum=0.1, affine=True, track_running_stats=True)\n",
              "    )\n",
              "    (1): BasicBlock(\n",
              "      (conv1): Conv2d(64, 64, kernel_size=(3, 3), stride=(1, 1), padding=(1, 1), bias=False)\n",
              "      (bn1): BatchNorm2d(64, eps=1e-05, momentum=0.1, affine=True, track_running_stats=True)\n",
              "      (relu): ReLU(inplace=True)\n",
              "      (conv2): Conv2d(64, 64, kernel_size=(3, 3), stride=(1, 1), padding=(1, 1), bias=False)\n",
              "      (bn2): BatchNorm2d(64, eps=1e-05, momentum=0.1, affine=True, track_running_stats=True)\n",
              "    )\n",
              "  )\n",
              "  (layer2): Sequential(\n",
              "    (0): BasicBlock(\n",
              "      (conv1): Conv2d(64, 128, kernel_size=(3, 3), stride=(2, 2), padding=(1, 1), bias=False)\n",
              "      (bn1): BatchNorm2d(128, eps=1e-05, momentum=0.1, affine=True, track_running_stats=True)\n",
              "      (relu): ReLU(inplace=True)\n",
              "      (conv2): Conv2d(128, 128, kernel_size=(3, 3), stride=(1, 1), padding=(1, 1), bias=False)\n",
              "      (bn2): BatchNorm2d(128, eps=1e-05, momentum=0.1, affine=True, track_running_stats=True)\n",
              "      (downsample): Sequential(\n",
              "        (0): Conv2d(64, 128, kernel_size=(1, 1), stride=(2, 2), bias=False)\n",
              "        (1): BatchNorm2d(128, eps=1e-05, momentum=0.1, affine=True, track_running_stats=True)\n",
              "      )\n",
              "    )\n",
              "    (1): BasicBlock(\n",
              "      (conv1): Conv2d(128, 128, kernel_size=(3, 3), stride=(1, 1), padding=(1, 1), bias=False)\n",
              "      (bn1): BatchNorm2d(128, eps=1e-05, momentum=0.1, affine=True, track_running_stats=True)\n",
              "      (relu): ReLU(inplace=True)\n",
              "      (conv2): Conv2d(128, 128, kernel_size=(3, 3), stride=(1, 1), padding=(1, 1), bias=False)\n",
              "      (bn2): BatchNorm2d(128, eps=1e-05, momentum=0.1, affine=True, track_running_stats=True)\n",
              "    )\n",
              "  )\n",
              "  (layer3): Sequential(\n",
              "    (0): BasicBlock(\n",
              "      (conv1): Conv2d(128, 256, kernel_size=(3, 3), stride=(2, 2), padding=(1, 1), bias=False)\n",
              "      (bn1): BatchNorm2d(256, eps=1e-05, momentum=0.1, affine=True, track_running_stats=True)\n",
              "      (relu): ReLU(inplace=True)\n",
              "      (conv2): Conv2d(256, 256, kernel_size=(3, 3), stride=(1, 1), padding=(1, 1), bias=False)\n",
              "      (bn2): BatchNorm2d(256, eps=1e-05, momentum=0.1, affine=True, track_running_stats=True)\n",
              "      (downsample): Sequential(\n",
              "        (0): Conv2d(128, 256, kernel_size=(1, 1), stride=(2, 2), bias=False)\n",
              "        (1): BatchNorm2d(256, eps=1e-05, momentum=0.1, affine=True, track_running_stats=True)\n",
              "      )\n",
              "    )\n",
              "    (1): BasicBlock(\n",
              "      (conv1): Conv2d(256, 256, kernel_size=(3, 3), stride=(1, 1), padding=(1, 1), bias=False)\n",
              "      (bn1): BatchNorm2d(256, eps=1e-05, momentum=0.1, affine=True, track_running_stats=True)\n",
              "      (relu): ReLU(inplace=True)\n",
              "      (conv2): Conv2d(256, 256, kernel_size=(3, 3), stride=(1, 1), padding=(1, 1), bias=False)\n",
              "      (bn2): BatchNorm2d(256, eps=1e-05, momentum=0.1, affine=True, track_running_stats=True)\n",
              "    )\n",
              "  )\n",
              "  (layer4): Sequential(\n",
              "    (0): BasicBlock(\n",
              "      (conv1): Conv2d(256, 512, kernel_size=(3, 3), stride=(2, 2), padding=(1, 1), bias=False)\n",
              "      (bn1): BatchNorm2d(512, eps=1e-05, momentum=0.1, affine=True, track_running_stats=True)\n",
              "      (relu): ReLU(inplace=True)\n",
              "      (conv2): Conv2d(512, 512, kernel_size=(3, 3), stride=(1, 1), padding=(1, 1), bias=False)\n",
              "      (bn2): BatchNorm2d(512, eps=1e-05, momentum=0.1, affine=True, track_running_stats=True)\n",
              "      (downsample): Sequential(\n",
              "        (0): Conv2d(256, 512, kernel_size=(1, 1), stride=(2, 2), bias=False)\n",
              "        (1): BatchNorm2d(512, eps=1e-05, momentum=0.1, affine=True, track_running_stats=True)\n",
              "      )\n",
              "    )\n",
              "    (1): BasicBlock(\n",
              "      (conv1): Conv2d(512, 512, kernel_size=(3, 3), stride=(1, 1), padding=(1, 1), bias=False)\n",
              "      (bn1): BatchNorm2d(512, eps=1e-05, momentum=0.1, affine=True, track_running_stats=True)\n",
              "      (relu): ReLU(inplace=True)\n",
              "      (conv2): Conv2d(512, 512, kernel_size=(3, 3), stride=(1, 1), padding=(1, 1), bias=False)\n",
              "      (bn2): BatchNorm2d(512, eps=1e-05, momentum=0.1, affine=True, track_running_stats=True)\n",
              "    )\n",
              "  )\n",
              "  (avgpool): AdaptiveAvgPool2d(output_size=(1, 1))\n",
              "  (fc): Linear(in_features=512, out_features=1000, bias=True)\n",
              ")"
            ]
          },
          "execution_count": 118,
          "metadata": {},
          "output_type": "execute_result"
        }
      ],
      "source": [
        "model"
      ]
    },
    {
      "cell_type": "code",
      "execution_count": 119,
      "metadata": {
        "id": "XYnj0cekYXDm"
      },
      "outputs": [],
      "source": [
        "def evaluate(model, device_str='cuda'):\n",
        "    global input_tensor\n",
        "    input_tensor = input_tensor\n",
        "    if not (device_str in['cpu', 'cuda']):\n",
        "        raise NotImplementedError(\"`device_str` should be 'cpu' or 'cuda' \")\n",
        "    if device_str == 'cuda':\n",
        "        assert torch.cuda.is_available(), 'Check CUDA is available'\n",
        "    input_batch = input_tensor.unsqueeze(0)[0]\n",
        "    input_batch = input_batch.to(device_str)\n",
        "    model.to(device_str)\n",
        "\n",
        "    with torch.no_grad():\n",
        "        output = model(input_batch)\n",
        "\n",
        "    probabilities = torch.nn.functional.softmax(output[0], dim=0)\n",
        "    with open(\"/Users/jjvyas1/Downloads/mla_project/imagenet_classes.txt\", \"r\") as f:\n",
        "        categories = [s.strip() for s in f.readlines()]\n",
        "    top5_prob, top5_catid = torch.topk(probabilities, 5)\n",
        "    for i in range(top5_prob.size(0)):\n",
        "        print(categories[top5_catid[i]], top5_prob[i].item())"
      ]
    },
    {
      "cell_type": "code",
      "execution_count": 120,
      "metadata": {
        "colab": {
          "base_uri": "https://localhost:8080/"
        },
        "id": "LplrKoW7YYOv",
        "outputId": "a706779f-8ae6-43c7-90df-b3563673c3d7"
      },
      "outputs": [
        {
          "name": "stdout",
          "output_type": "stream",
          "text": [
            "goldfish 0.8217602968215942\n",
            "axolotl 0.14192184805870056\n",
            "tench 0.01749112270772457\n",
            "sturgeon 0.005148489493876696\n",
            "puffer 0.004762660246342421\n"
          ]
        }
      ],
      "source": [
        "evaluate(model, 'cpu')"
      ]
    },
    {
      "cell_type": "code",
      "execution_count": 121,
      "metadata": {
        "id": "x2GzQ6tRalmR"
      },
      "outputs": [],
      "source": [
        "def get_model_size(model):\n",
        "    torch.save(model.state_dict(), \"temp.p\")\n",
        "    size_mb = os.path.getsize(\"temp.p\") / 1e6\n",
        "    os.remove(\"temp.p\")\n",
        "    print(f\"Model size: {size_mb:.2f} MB\")\n",
        "    return size_mb\n"
      ]
    },
    {
      "cell_type": "code",
      "execution_count": 122,
      "metadata": {
        "colab": {
          "base_uri": "https://localhost:8080/"
        },
        "id": "-4vZKaoJmUUu",
        "outputId": "d1ceadfe-6775-4134-deb1-36c18020d9da"
      },
      "outputs": [
        {
          "name": "stdout",
          "output_type": "stream",
          "text": [
            "Model size: 46.83 MB\n"
          ]
        },
        {
          "data": {
            "text/plain": [
              "46.828292"
            ]
          },
          "execution_count": 122,
          "metadata": {},
          "output_type": "execute_result"
        }
      ],
      "source": [
        "get_model_size(model)"
      ]
    },
    {
      "cell_type": "code",
      "execution_count": 123,
      "metadata": {},
      "outputs": [],
      "source": [
        "def measure_inference_time(model, input_size=(1, 3, 224, 224), device='cpu', repeats=50):\n",
        "    model.eval()\n",
        "    dummy_input = torch.randn(input_size).to(device)\n",
        "    model.to(device)\n",
        "\n",
        "    for _ in range(10):\n",
        "        _ = model(dummy_input)\n",
        "\n",
        "    start = time.time()\n",
        "    for _ in range(repeats):\n",
        "        _ = model(dummy_input)\n",
        "    end = time.time()\n",
        "\n",
        "    avg_time = (end - start) / repeats\n",
        "    print(f\"Inference time (avg over {repeats}): {avg_time*1000:.2f} ms\")\n",
        "    return avg_time"
      ]
    },
    {
      "cell_type": "code",
      "execution_count": 124,
      "metadata": {},
      "outputs": [
        {
          "name": "stdout",
          "output_type": "stream",
          "text": [
            "Inference time (avg over 50): 15.57 ms\n"
          ]
        },
        {
          "data": {
            "text/plain": [
              "0.015571141242980957"
            ]
          },
          "execution_count": 124,
          "metadata": {},
          "output_type": "execute_result"
        }
      ],
      "source": [
        "measure_inference_time(model)"
      ]
    },
    {
      "cell_type": "markdown",
      "metadata": {},
      "source": [
        "Here, I am importing custom resnet18 with modules_to_fuse methods implemented for fusing \n",
        "layers for quantization."
      ]
    },
    {
      "cell_type": "code",
      "execution_count": 125,
      "metadata": {
        "colab": {
          "base_uri": "https://localhost:8080/"
        },
        "id": "hlDBN_Hi0Yo7",
        "outputId": "fd6c6c28-28b0-4edf-e605-10418c23bfbf"
      },
      "outputs": [
        {
          "data": {
            "text/plain": [
              "ResNet(\n",
              "  (conv1): Conv2d(3, 64, kernel_size=(7, 7), stride=(2, 2), padding=(3, 3), bias=False)\n",
              "  (bn1): BatchNorm2d(64, eps=1e-05, momentum=0.1, affine=True, track_running_stats=True)\n",
              "  (relu): ReLU(inplace=True)\n",
              "  (maxpool): MaxPool2d(kernel_size=3, stride=2, padding=1, dilation=1, ceil_mode=False)\n",
              "  (layer1): Sequential(\n",
              "    (0): BasicBlock(\n",
              "      (conv1): Conv2d(64, 64, kernel_size=(3, 3), stride=(1, 1), padding=(1, 1), bias=False)\n",
              "      (bn1): BatchNorm2d(64, eps=1e-05, momentum=0.1, affine=True, track_running_stats=True)\n",
              "      (relu1): ReLU(inplace=True)\n",
              "      (conv2): Conv2d(64, 64, kernel_size=(3, 3), stride=(1, 1), padding=(1, 1), bias=False)\n",
              "      (bn2): BatchNorm2d(64, eps=1e-05, momentum=0.1, affine=True, track_running_stats=True)\n",
              "      (add_relu_FF): FloatFunctional(\n",
              "        (activation_post_process): Identity()\n",
              "      )\n",
              "    )\n",
              "    (1): BasicBlock(\n",
              "      (conv1): Conv2d(64, 64, kernel_size=(3, 3), stride=(1, 1), padding=(1, 1), bias=False)\n",
              "      (bn1): BatchNorm2d(64, eps=1e-05, momentum=0.1, affine=True, track_running_stats=True)\n",
              "      (relu1): ReLU(inplace=True)\n",
              "      (conv2): Conv2d(64, 64, kernel_size=(3, 3), stride=(1, 1), padding=(1, 1), bias=False)\n",
              "      (bn2): BatchNorm2d(64, eps=1e-05, momentum=0.1, affine=True, track_running_stats=True)\n",
              "      (add_relu_FF): FloatFunctional(\n",
              "        (activation_post_process): Identity()\n",
              "      )\n",
              "    )\n",
              "  )\n",
              "  (layer2): Sequential(\n",
              "    (0): BasicBlock(\n",
              "      (conv1): Conv2d(64, 128, kernel_size=(3, 3), stride=(2, 2), padding=(1, 1), bias=False)\n",
              "      (bn1): BatchNorm2d(128, eps=1e-05, momentum=0.1, affine=True, track_running_stats=True)\n",
              "      (relu1): ReLU(inplace=True)\n",
              "      (conv2): Conv2d(128, 128, kernel_size=(3, 3), stride=(1, 1), padding=(1, 1), bias=False)\n",
              "      (bn2): BatchNorm2d(128, eps=1e-05, momentum=0.1, affine=True, track_running_stats=True)\n",
              "      (downsample): Sequential(\n",
              "        (0): Conv2d(64, 128, kernel_size=(1, 1), stride=(2, 2), bias=False)\n",
              "        (1): BatchNorm2d(128, eps=1e-05, momentum=0.1, affine=True, track_running_stats=True)\n",
              "      )\n",
              "      (add_relu_FF): FloatFunctional(\n",
              "        (activation_post_process): Identity()\n",
              "      )\n",
              "    )\n",
              "    (1): BasicBlock(\n",
              "      (conv1): Conv2d(128, 128, kernel_size=(3, 3), stride=(1, 1), padding=(1, 1), bias=False)\n",
              "      (bn1): BatchNorm2d(128, eps=1e-05, momentum=0.1, affine=True, track_running_stats=True)\n",
              "      (relu1): ReLU(inplace=True)\n",
              "      (conv2): Conv2d(128, 128, kernel_size=(3, 3), stride=(1, 1), padding=(1, 1), bias=False)\n",
              "      (bn2): BatchNorm2d(128, eps=1e-05, momentum=0.1, affine=True, track_running_stats=True)\n",
              "      (add_relu_FF): FloatFunctional(\n",
              "        (activation_post_process): Identity()\n",
              "      )\n",
              "    )\n",
              "  )\n",
              "  (layer3): Sequential(\n",
              "    (0): BasicBlock(\n",
              "      (conv1): Conv2d(128, 256, kernel_size=(3, 3), stride=(2, 2), padding=(1, 1), bias=False)\n",
              "      (bn1): BatchNorm2d(256, eps=1e-05, momentum=0.1, affine=True, track_running_stats=True)\n",
              "      (relu1): ReLU(inplace=True)\n",
              "      (conv2): Conv2d(256, 256, kernel_size=(3, 3), stride=(1, 1), padding=(1, 1), bias=False)\n",
              "      (bn2): BatchNorm2d(256, eps=1e-05, momentum=0.1, affine=True, track_running_stats=True)\n",
              "      (downsample): Sequential(\n",
              "        (0): Conv2d(128, 256, kernel_size=(1, 1), stride=(2, 2), bias=False)\n",
              "        (1): BatchNorm2d(256, eps=1e-05, momentum=0.1, affine=True, track_running_stats=True)\n",
              "      )\n",
              "      (add_relu_FF): FloatFunctional(\n",
              "        (activation_post_process): Identity()\n",
              "      )\n",
              "    )\n",
              "    (1): BasicBlock(\n",
              "      (conv1): Conv2d(256, 256, kernel_size=(3, 3), stride=(1, 1), padding=(1, 1), bias=False)\n",
              "      (bn1): BatchNorm2d(256, eps=1e-05, momentum=0.1, affine=True, track_running_stats=True)\n",
              "      (relu1): ReLU(inplace=True)\n",
              "      (conv2): Conv2d(256, 256, kernel_size=(3, 3), stride=(1, 1), padding=(1, 1), bias=False)\n",
              "      (bn2): BatchNorm2d(256, eps=1e-05, momentum=0.1, affine=True, track_running_stats=True)\n",
              "      (add_relu_FF): FloatFunctional(\n",
              "        (activation_post_process): Identity()\n",
              "      )\n",
              "    )\n",
              "  )\n",
              "  (layer4): Sequential(\n",
              "    (0): BasicBlock(\n",
              "      (conv1): Conv2d(256, 512, kernel_size=(3, 3), stride=(2, 2), padding=(1, 1), bias=False)\n",
              "      (bn1): BatchNorm2d(512, eps=1e-05, momentum=0.1, affine=True, track_running_stats=True)\n",
              "      (relu1): ReLU(inplace=True)\n",
              "      (conv2): Conv2d(512, 512, kernel_size=(3, 3), stride=(1, 1), padding=(1, 1), bias=False)\n",
              "      (bn2): BatchNorm2d(512, eps=1e-05, momentum=0.1, affine=True, track_running_stats=True)\n",
              "      (downsample): Sequential(\n",
              "        (0): Conv2d(256, 512, kernel_size=(1, 1), stride=(2, 2), bias=False)\n",
              "        (1): BatchNorm2d(512, eps=1e-05, momentum=0.1, affine=True, track_running_stats=True)\n",
              "      )\n",
              "      (add_relu_FF): FloatFunctional(\n",
              "        (activation_post_process): Identity()\n",
              "      )\n",
              "    )\n",
              "    (1): BasicBlock(\n",
              "      (conv1): Conv2d(512, 512, kernel_size=(3, 3), stride=(1, 1), padding=(1, 1), bias=False)\n",
              "      (bn1): BatchNorm2d(512, eps=1e-05, momentum=0.1, affine=True, track_running_stats=True)\n",
              "      (relu1): ReLU(inplace=True)\n",
              "      (conv2): Conv2d(512, 512, kernel_size=(3, 3), stride=(1, 1), padding=(1, 1), bias=False)\n",
              "      (bn2): BatchNorm2d(512, eps=1e-05, momentum=0.1, affine=True, track_running_stats=True)\n",
              "      (add_relu_FF): FloatFunctional(\n",
              "        (activation_post_process): Identity()\n",
              "      )\n",
              "    )\n",
              "  )\n",
              "  (avgpool): AdaptiveAvgPool2d(output_size=(1, 1))\n",
              "  (fc): Linear(in_features=512, out_features=1000, bias=True)\n",
              "  (quant): QuantStub()\n",
              "  (dequant): DeQuantStub()\n",
              ")"
            ]
          },
          "execution_count": 125,
          "metadata": {},
          "output_type": "execute_result"
        }
      ],
      "source": [
        "from Downloads.mla_project.resnet import resnet18\n",
        "# loading the quantized model\n",
        "model = resnet18(pretrained=True)\n",
        "model"
      ]
    },
    {
      "cell_type": "code",
      "execution_count": 126,
      "metadata": {
        "colab": {
          "base_uri": "https://localhost:8080/"
        },
        "id": "luhzWMjXrWsJ",
        "outputId": "3936f189-8a02-40e3-b388-1ded946d61a4"
      },
      "outputs": [
        {
          "data": {
            "text/plain": [
              "[['conv1', 'bn1', 'relu'],\n",
              " ['layer1.0.conv1', 'layer1.0.bn1', 'layer1.0.relu1'],\n",
              " ['layer1.0.conv2', 'layer1.0.bn2'],\n",
              " ['layer1.1.conv1', 'layer1.1.bn1', 'layer1.1.relu1'],\n",
              " ['layer1.1.conv2', 'layer1.1.bn2'],\n",
              " ['layer2.0.conv1', 'layer2.0.bn1', 'layer2.0.relu1'],\n",
              " ['layer2.0.conv2', 'layer2.0.bn2'],\n",
              " ['layer2.0.downsample.0', 'layer2.0.downsample.1'],\n",
              " ['layer2.1.conv1', 'layer2.1.bn1', 'layer2.1.relu1'],\n",
              " ['layer2.1.conv2', 'layer2.1.bn2'],\n",
              " ['layer3.0.conv1', 'layer3.0.bn1', 'layer3.0.relu1'],\n",
              " ['layer3.0.conv2', 'layer3.0.bn2'],\n",
              " ['layer3.0.downsample.0', 'layer3.0.downsample.1'],\n",
              " ['layer3.1.conv1', 'layer3.1.bn1', 'layer3.1.relu1'],\n",
              " ['layer3.1.conv2', 'layer3.1.bn2'],\n",
              " ['layer4.0.conv1', 'layer4.0.bn1', 'layer4.0.relu1'],\n",
              " ['layer4.0.conv2', 'layer4.0.bn2'],\n",
              " ['layer4.0.downsample.0', 'layer4.0.downsample.1'],\n",
              " ['layer4.1.conv1', 'layer4.1.bn1', 'layer4.1.relu1'],\n",
              " ['layer4.1.conv2', 'layer4.1.bn2']]"
            ]
          },
          "execution_count": 126,
          "metadata": {},
          "output_type": "execute_result"
        }
      ],
      "source": [
        "modules_to_list = model.modules_to_fuse()\n",
        "modules_to_list"
      ]
    },
    {
      "cell_type": "code",
      "execution_count": 127,
      "metadata": {
        "colab": {
          "base_uri": "https://localhost:8080/"
        },
        "id": "JjePJzXFrc2N",
        "outputId": "9ff8bb14-c991-454b-bef2-a16835ac02d3"
      },
      "outputs": [
        {
          "data": {
            "text/plain": [
              "ResNet(\n",
              "  (conv1): ConvReLU2d(\n",
              "    (0): Conv2d(3, 64, kernel_size=(7, 7), stride=(2, 2), padding=(3, 3))\n",
              "    (1): ReLU(inplace=True)\n",
              "  )\n",
              "  (bn1): Identity()\n",
              "  (relu): Identity()\n",
              "  (maxpool): MaxPool2d(kernel_size=3, stride=2, padding=1, dilation=1, ceil_mode=False)\n",
              "  (layer1): Sequential(\n",
              "    (0): BasicBlock(\n",
              "      (conv1): ConvReLU2d(\n",
              "        (0): Conv2d(64, 64, kernel_size=(3, 3), stride=(1, 1), padding=(1, 1))\n",
              "        (1): ReLU(inplace=True)\n",
              "      )\n",
              "      (bn1): Identity()\n",
              "      (relu1): Identity()\n",
              "      (conv2): Conv2d(64, 64, kernel_size=(3, 3), stride=(1, 1), padding=(1, 1))\n",
              "      (bn2): Identity()\n",
              "      (add_relu_FF): FloatFunctional(\n",
              "        (activation_post_process): Identity()\n",
              "      )\n",
              "    )\n",
              "    (1): BasicBlock(\n",
              "      (conv1): ConvReLU2d(\n",
              "        (0): Conv2d(64, 64, kernel_size=(3, 3), stride=(1, 1), padding=(1, 1))\n",
              "        (1): ReLU(inplace=True)\n",
              "      )\n",
              "      (bn1): Identity()\n",
              "      (relu1): Identity()\n",
              "      (conv2): Conv2d(64, 64, kernel_size=(3, 3), stride=(1, 1), padding=(1, 1))\n",
              "      (bn2): Identity()\n",
              "      (add_relu_FF): FloatFunctional(\n",
              "        (activation_post_process): Identity()\n",
              "      )\n",
              "    )\n",
              "  )\n",
              "  (layer2): Sequential(\n",
              "    (0): BasicBlock(\n",
              "      (conv1): ConvReLU2d(\n",
              "        (0): Conv2d(64, 128, kernel_size=(3, 3), stride=(2, 2), padding=(1, 1))\n",
              "        (1): ReLU(inplace=True)\n",
              "      )\n",
              "      (bn1): Identity()\n",
              "      (relu1): Identity()\n",
              "      (conv2): Conv2d(128, 128, kernel_size=(3, 3), stride=(1, 1), padding=(1, 1))\n",
              "      (bn2): Identity()\n",
              "      (downsample): Sequential(\n",
              "        (0): Conv2d(64, 128, kernel_size=(1, 1), stride=(2, 2))\n",
              "        (1): Identity()\n",
              "      )\n",
              "      (add_relu_FF): FloatFunctional(\n",
              "        (activation_post_process): Identity()\n",
              "      )\n",
              "    )\n",
              "    (1): BasicBlock(\n",
              "      (conv1): ConvReLU2d(\n",
              "        (0): Conv2d(128, 128, kernel_size=(3, 3), stride=(1, 1), padding=(1, 1))\n",
              "        (1): ReLU(inplace=True)\n",
              "      )\n",
              "      (bn1): Identity()\n",
              "      (relu1): Identity()\n",
              "      (conv2): Conv2d(128, 128, kernel_size=(3, 3), stride=(1, 1), padding=(1, 1))\n",
              "      (bn2): Identity()\n",
              "      (add_relu_FF): FloatFunctional(\n",
              "        (activation_post_process): Identity()\n",
              "      )\n",
              "    )\n",
              "  )\n",
              "  (layer3): Sequential(\n",
              "    (0): BasicBlock(\n",
              "      (conv1): ConvReLU2d(\n",
              "        (0): Conv2d(128, 256, kernel_size=(3, 3), stride=(2, 2), padding=(1, 1))\n",
              "        (1): ReLU(inplace=True)\n",
              "      )\n",
              "      (bn1): Identity()\n",
              "      (relu1): Identity()\n",
              "      (conv2): Conv2d(256, 256, kernel_size=(3, 3), stride=(1, 1), padding=(1, 1))\n",
              "      (bn2): Identity()\n",
              "      (downsample): Sequential(\n",
              "        (0): Conv2d(128, 256, kernel_size=(1, 1), stride=(2, 2))\n",
              "        (1): Identity()\n",
              "      )\n",
              "      (add_relu_FF): FloatFunctional(\n",
              "        (activation_post_process): Identity()\n",
              "      )\n",
              "    )\n",
              "    (1): BasicBlock(\n",
              "      (conv1): ConvReLU2d(\n",
              "        (0): Conv2d(256, 256, kernel_size=(3, 3), stride=(1, 1), padding=(1, 1))\n",
              "        (1): ReLU(inplace=True)\n",
              "      )\n",
              "      (bn1): Identity()\n",
              "      (relu1): Identity()\n",
              "      (conv2): Conv2d(256, 256, kernel_size=(3, 3), stride=(1, 1), padding=(1, 1))\n",
              "      (bn2): Identity()\n",
              "      (add_relu_FF): FloatFunctional(\n",
              "        (activation_post_process): Identity()\n",
              "      )\n",
              "    )\n",
              "  )\n",
              "  (layer4): Sequential(\n",
              "    (0): BasicBlock(\n",
              "      (conv1): ConvReLU2d(\n",
              "        (0): Conv2d(256, 512, kernel_size=(3, 3), stride=(2, 2), padding=(1, 1))\n",
              "        (1): ReLU(inplace=True)\n",
              "      )\n",
              "      (bn1): Identity()\n",
              "      (relu1): Identity()\n",
              "      (conv2): Conv2d(512, 512, kernel_size=(3, 3), stride=(1, 1), padding=(1, 1))\n",
              "      (bn2): Identity()\n",
              "      (downsample): Sequential(\n",
              "        (0): Conv2d(256, 512, kernel_size=(1, 1), stride=(2, 2))\n",
              "        (1): Identity()\n",
              "      )\n",
              "      (add_relu_FF): FloatFunctional(\n",
              "        (activation_post_process): Identity()\n",
              "      )\n",
              "    )\n",
              "    (1): BasicBlock(\n",
              "      (conv1): ConvReLU2d(\n",
              "        (0): Conv2d(512, 512, kernel_size=(3, 3), stride=(1, 1), padding=(1, 1))\n",
              "        (1): ReLU(inplace=True)\n",
              "      )\n",
              "      (bn1): Identity()\n",
              "      (relu1): Identity()\n",
              "      (conv2): Conv2d(512, 512, kernel_size=(3, 3), stride=(1, 1), padding=(1, 1))\n",
              "      (bn2): Identity()\n",
              "      (add_relu_FF): FloatFunctional(\n",
              "        (activation_post_process): Identity()\n",
              "      )\n",
              "    )\n",
              "  )\n",
              "  (avgpool): AdaptiveAvgPool2d(output_size=(1, 1))\n",
              "  (fc): Linear(in_features=512, out_features=1000, bias=True)\n",
              "  (quant): QuantStub()\n",
              "  (dequant): DeQuantStub()\n",
              ")"
            ]
          },
          "execution_count": 127,
          "metadata": {},
          "output_type": "execute_result"
        }
      ],
      "source": [
        "model.eval()\n",
        "fused_model = torch.ao.quantization.fuse_modules(model, modules_to_list)\n",
        "fused_model"
      ]
    },
    {
      "cell_type": "code",
      "execution_count": 128,
      "metadata": {
        "colab": {
          "base_uri": "https://localhost:8080/"
        },
        "id": "4wwBw7UYrTfg",
        "outputId": "33a77b4f-887e-4b16-c56f-bf469c34552a"
      },
      "outputs": [
        {
          "data": {
            "text/plain": [
              "ResNet(\n",
              "  (conv1): ConvReLU2d(\n",
              "    3, 64, kernel_size=(7, 7), stride=(2, 2), padding=(3, 3)\n",
              "    (weight_fake_quant): FakeQuantize(\n",
              "      fake_quant_enabled=tensor([1], dtype=torch.uint8), observer_enabled=tensor([1], dtype=torch.uint8), quant_min=-128, quant_max=127, dtype=torch.qint8, qscheme=torch.per_channel_symmetric, ch_axis=0, scale=tensor([1.]), zero_point=tensor([0], dtype=torch.int32)\n",
              "      (activation_post_process): PerChannelMinMaxObserver(min_val=tensor([]), max_val=tensor([]))\n",
              "    )\n",
              "    (activation_post_process): FakeQuantize(\n",
              "      fake_quant_enabled=tensor([1], dtype=torch.uint8), observer_enabled=tensor([1], dtype=torch.uint8), quant_min=0, quant_max=255, dtype=torch.quint8, qscheme=torch.per_tensor_affine, ch_axis=-1, scale=tensor([1.]), zero_point=tensor([0], dtype=torch.int32)\n",
              "      (activation_post_process): HistogramObserver(min_val=inf, max_val=-inf)\n",
              "    )\n",
              "  )\n",
              "  (bn1): Identity()\n",
              "  (relu): Identity()\n",
              "  (maxpool): MaxPool2d(kernel_size=3, stride=2, padding=1, dilation=1, ceil_mode=False)\n",
              "  (layer1): Sequential(\n",
              "    (0): BasicBlock(\n",
              "      (conv1): ConvReLU2d(\n",
              "        64, 64, kernel_size=(3, 3), stride=(1, 1), padding=(1, 1)\n",
              "        (weight_fake_quant): FakeQuantize(\n",
              "          fake_quant_enabled=tensor([1], dtype=torch.uint8), observer_enabled=tensor([1], dtype=torch.uint8), quant_min=-128, quant_max=127, dtype=torch.qint8, qscheme=torch.per_channel_symmetric, ch_axis=0, scale=tensor([1.]), zero_point=tensor([0], dtype=torch.int32)\n",
              "          (activation_post_process): PerChannelMinMaxObserver(min_val=tensor([]), max_val=tensor([]))\n",
              "        )\n",
              "        (activation_post_process): FakeQuantize(\n",
              "          fake_quant_enabled=tensor([1], dtype=torch.uint8), observer_enabled=tensor([1], dtype=torch.uint8), quant_min=0, quant_max=255, dtype=torch.quint8, qscheme=torch.per_tensor_affine, ch_axis=-1, scale=tensor([1.]), zero_point=tensor([0], dtype=torch.int32)\n",
              "          (activation_post_process): HistogramObserver(min_val=inf, max_val=-inf)\n",
              "        )\n",
              "      )\n",
              "      (bn1): Identity()\n",
              "      (relu1): Identity()\n",
              "      (conv2): Conv2d(\n",
              "        64, 64, kernel_size=(3, 3), stride=(1, 1), padding=(1, 1)\n",
              "        (weight_fake_quant): FakeQuantize(\n",
              "          fake_quant_enabled=tensor([1], dtype=torch.uint8), observer_enabled=tensor([1], dtype=torch.uint8), quant_min=-128, quant_max=127, dtype=torch.qint8, qscheme=torch.per_channel_symmetric, ch_axis=0, scale=tensor([1.]), zero_point=tensor([0], dtype=torch.int32)\n",
              "          (activation_post_process): PerChannelMinMaxObserver(min_val=tensor([]), max_val=tensor([]))\n",
              "        )\n",
              "        (activation_post_process): FakeQuantize(\n",
              "          fake_quant_enabled=tensor([1], dtype=torch.uint8), observer_enabled=tensor([1], dtype=torch.uint8), quant_min=0, quant_max=255, dtype=torch.quint8, qscheme=torch.per_tensor_affine, ch_axis=-1, scale=tensor([1.]), zero_point=tensor([0], dtype=torch.int32)\n",
              "          (activation_post_process): HistogramObserver(min_val=inf, max_val=-inf)\n",
              "        )\n",
              "      )\n",
              "      (bn2): Identity()\n",
              "      (add_relu_FF): FloatFunctional(\n",
              "        (activation_post_process): FakeQuantize(\n",
              "          fake_quant_enabled=tensor([1], dtype=torch.uint8), observer_enabled=tensor([1], dtype=torch.uint8), quant_min=0, quant_max=255, dtype=torch.quint8, qscheme=torch.per_tensor_affine, ch_axis=-1, scale=tensor([1.]), zero_point=tensor([0], dtype=torch.int32)\n",
              "          (activation_post_process): HistogramObserver(min_val=inf, max_val=-inf)\n",
              "        )\n",
              "      )\n",
              "    )\n",
              "    (1): BasicBlock(\n",
              "      (conv1): ConvReLU2d(\n",
              "        64, 64, kernel_size=(3, 3), stride=(1, 1), padding=(1, 1)\n",
              "        (weight_fake_quant): FakeQuantize(\n",
              "          fake_quant_enabled=tensor([1], dtype=torch.uint8), observer_enabled=tensor([1], dtype=torch.uint8), quant_min=-128, quant_max=127, dtype=torch.qint8, qscheme=torch.per_channel_symmetric, ch_axis=0, scale=tensor([1.]), zero_point=tensor([0], dtype=torch.int32)\n",
              "          (activation_post_process): PerChannelMinMaxObserver(min_val=tensor([]), max_val=tensor([]))\n",
              "        )\n",
              "        (activation_post_process): FakeQuantize(\n",
              "          fake_quant_enabled=tensor([1], dtype=torch.uint8), observer_enabled=tensor([1], dtype=torch.uint8), quant_min=0, quant_max=255, dtype=torch.quint8, qscheme=torch.per_tensor_affine, ch_axis=-1, scale=tensor([1.]), zero_point=tensor([0], dtype=torch.int32)\n",
              "          (activation_post_process): HistogramObserver(min_val=inf, max_val=-inf)\n",
              "        )\n",
              "      )\n",
              "      (bn1): Identity()\n",
              "      (relu1): Identity()\n",
              "      (conv2): Conv2d(\n",
              "        64, 64, kernel_size=(3, 3), stride=(1, 1), padding=(1, 1)\n",
              "        (weight_fake_quant): FakeQuantize(\n",
              "          fake_quant_enabled=tensor([1], dtype=torch.uint8), observer_enabled=tensor([1], dtype=torch.uint8), quant_min=-128, quant_max=127, dtype=torch.qint8, qscheme=torch.per_channel_symmetric, ch_axis=0, scale=tensor([1.]), zero_point=tensor([0], dtype=torch.int32)\n",
              "          (activation_post_process): PerChannelMinMaxObserver(min_val=tensor([]), max_val=tensor([]))\n",
              "        )\n",
              "        (activation_post_process): FakeQuantize(\n",
              "          fake_quant_enabled=tensor([1], dtype=torch.uint8), observer_enabled=tensor([1], dtype=torch.uint8), quant_min=0, quant_max=255, dtype=torch.quint8, qscheme=torch.per_tensor_affine, ch_axis=-1, scale=tensor([1.]), zero_point=tensor([0], dtype=torch.int32)\n",
              "          (activation_post_process): HistogramObserver(min_val=inf, max_val=-inf)\n",
              "        )\n",
              "      )\n",
              "      (bn2): Identity()\n",
              "      (add_relu_FF): FloatFunctional(\n",
              "        (activation_post_process): FakeQuantize(\n",
              "          fake_quant_enabled=tensor([1], dtype=torch.uint8), observer_enabled=tensor([1], dtype=torch.uint8), quant_min=0, quant_max=255, dtype=torch.quint8, qscheme=torch.per_tensor_affine, ch_axis=-1, scale=tensor([1.]), zero_point=tensor([0], dtype=torch.int32)\n",
              "          (activation_post_process): HistogramObserver(min_val=inf, max_val=-inf)\n",
              "        )\n",
              "      )\n",
              "    )\n",
              "  )\n",
              "  (layer2): Sequential(\n",
              "    (0): BasicBlock(\n",
              "      (conv1): ConvReLU2d(\n",
              "        64, 128, kernel_size=(3, 3), stride=(2, 2), padding=(1, 1)\n",
              "        (weight_fake_quant): FakeQuantize(\n",
              "          fake_quant_enabled=tensor([1], dtype=torch.uint8), observer_enabled=tensor([1], dtype=torch.uint8), quant_min=-128, quant_max=127, dtype=torch.qint8, qscheme=torch.per_channel_symmetric, ch_axis=0, scale=tensor([1.]), zero_point=tensor([0], dtype=torch.int32)\n",
              "          (activation_post_process): PerChannelMinMaxObserver(min_val=tensor([]), max_val=tensor([]))\n",
              "        )\n",
              "        (activation_post_process): FakeQuantize(\n",
              "          fake_quant_enabled=tensor([1], dtype=torch.uint8), observer_enabled=tensor([1], dtype=torch.uint8), quant_min=0, quant_max=255, dtype=torch.quint8, qscheme=torch.per_tensor_affine, ch_axis=-1, scale=tensor([1.]), zero_point=tensor([0], dtype=torch.int32)\n",
              "          (activation_post_process): HistogramObserver(min_val=inf, max_val=-inf)\n",
              "        )\n",
              "      )\n",
              "      (bn1): Identity()\n",
              "      (relu1): Identity()\n",
              "      (conv2): Conv2d(\n",
              "        128, 128, kernel_size=(3, 3), stride=(1, 1), padding=(1, 1)\n",
              "        (weight_fake_quant): FakeQuantize(\n",
              "          fake_quant_enabled=tensor([1], dtype=torch.uint8), observer_enabled=tensor([1], dtype=torch.uint8), quant_min=-128, quant_max=127, dtype=torch.qint8, qscheme=torch.per_channel_symmetric, ch_axis=0, scale=tensor([1.]), zero_point=tensor([0], dtype=torch.int32)\n",
              "          (activation_post_process): PerChannelMinMaxObserver(min_val=tensor([]), max_val=tensor([]))\n",
              "        )\n",
              "        (activation_post_process): FakeQuantize(\n",
              "          fake_quant_enabled=tensor([1], dtype=torch.uint8), observer_enabled=tensor([1], dtype=torch.uint8), quant_min=0, quant_max=255, dtype=torch.quint8, qscheme=torch.per_tensor_affine, ch_axis=-1, scale=tensor([1.]), zero_point=tensor([0], dtype=torch.int32)\n",
              "          (activation_post_process): HistogramObserver(min_val=inf, max_val=-inf)\n",
              "        )\n",
              "      )\n",
              "      (bn2): Identity()\n",
              "      (downsample): Sequential(\n",
              "        (0): Conv2d(\n",
              "          64, 128, kernel_size=(1, 1), stride=(2, 2)\n",
              "          (weight_fake_quant): FakeQuantize(\n",
              "            fake_quant_enabled=tensor([1], dtype=torch.uint8), observer_enabled=tensor([1], dtype=torch.uint8), quant_min=-128, quant_max=127, dtype=torch.qint8, qscheme=torch.per_channel_symmetric, ch_axis=0, scale=tensor([1.]), zero_point=tensor([0], dtype=torch.int32)\n",
              "            (activation_post_process): PerChannelMinMaxObserver(min_val=tensor([]), max_val=tensor([]))\n",
              "          )\n",
              "          (activation_post_process): FakeQuantize(\n",
              "            fake_quant_enabled=tensor([1], dtype=torch.uint8), observer_enabled=tensor([1], dtype=torch.uint8), quant_min=0, quant_max=255, dtype=torch.quint8, qscheme=torch.per_tensor_affine, ch_axis=-1, scale=tensor([1.]), zero_point=tensor([0], dtype=torch.int32)\n",
              "            (activation_post_process): HistogramObserver(min_val=inf, max_val=-inf)\n",
              "          )\n",
              "        )\n",
              "        (1): Identity()\n",
              "      )\n",
              "      (add_relu_FF): FloatFunctional(\n",
              "        (activation_post_process): FakeQuantize(\n",
              "          fake_quant_enabled=tensor([1], dtype=torch.uint8), observer_enabled=tensor([1], dtype=torch.uint8), quant_min=0, quant_max=255, dtype=torch.quint8, qscheme=torch.per_tensor_affine, ch_axis=-1, scale=tensor([1.]), zero_point=tensor([0], dtype=torch.int32)\n",
              "          (activation_post_process): HistogramObserver(min_val=inf, max_val=-inf)\n",
              "        )\n",
              "      )\n",
              "    )\n",
              "    (1): BasicBlock(\n",
              "      (conv1): ConvReLU2d(\n",
              "        128, 128, kernel_size=(3, 3), stride=(1, 1), padding=(1, 1)\n",
              "        (weight_fake_quant): FakeQuantize(\n",
              "          fake_quant_enabled=tensor([1], dtype=torch.uint8), observer_enabled=tensor([1], dtype=torch.uint8), quant_min=-128, quant_max=127, dtype=torch.qint8, qscheme=torch.per_channel_symmetric, ch_axis=0, scale=tensor([1.]), zero_point=tensor([0], dtype=torch.int32)\n",
              "          (activation_post_process): PerChannelMinMaxObserver(min_val=tensor([]), max_val=tensor([]))\n",
              "        )\n",
              "        (activation_post_process): FakeQuantize(\n",
              "          fake_quant_enabled=tensor([1], dtype=torch.uint8), observer_enabled=tensor([1], dtype=torch.uint8), quant_min=0, quant_max=255, dtype=torch.quint8, qscheme=torch.per_tensor_affine, ch_axis=-1, scale=tensor([1.]), zero_point=tensor([0], dtype=torch.int32)\n",
              "          (activation_post_process): HistogramObserver(min_val=inf, max_val=-inf)\n",
              "        )\n",
              "      )\n",
              "      (bn1): Identity()\n",
              "      (relu1): Identity()\n",
              "      (conv2): Conv2d(\n",
              "        128, 128, kernel_size=(3, 3), stride=(1, 1), padding=(1, 1)\n",
              "        (weight_fake_quant): FakeQuantize(\n",
              "          fake_quant_enabled=tensor([1], dtype=torch.uint8), observer_enabled=tensor([1], dtype=torch.uint8), quant_min=-128, quant_max=127, dtype=torch.qint8, qscheme=torch.per_channel_symmetric, ch_axis=0, scale=tensor([1.]), zero_point=tensor([0], dtype=torch.int32)\n",
              "          (activation_post_process): PerChannelMinMaxObserver(min_val=tensor([]), max_val=tensor([]))\n",
              "        )\n",
              "        (activation_post_process): FakeQuantize(\n",
              "          fake_quant_enabled=tensor([1], dtype=torch.uint8), observer_enabled=tensor([1], dtype=torch.uint8), quant_min=0, quant_max=255, dtype=torch.quint8, qscheme=torch.per_tensor_affine, ch_axis=-1, scale=tensor([1.]), zero_point=tensor([0], dtype=torch.int32)\n",
              "          (activation_post_process): HistogramObserver(min_val=inf, max_val=-inf)\n",
              "        )\n",
              "      )\n",
              "      (bn2): Identity()\n",
              "      (add_relu_FF): FloatFunctional(\n",
              "        (activation_post_process): FakeQuantize(\n",
              "          fake_quant_enabled=tensor([1], dtype=torch.uint8), observer_enabled=tensor([1], dtype=torch.uint8), quant_min=0, quant_max=255, dtype=torch.quint8, qscheme=torch.per_tensor_affine, ch_axis=-1, scale=tensor([1.]), zero_point=tensor([0], dtype=torch.int32)\n",
              "          (activation_post_process): HistogramObserver(min_val=inf, max_val=-inf)\n",
              "        )\n",
              "      )\n",
              "    )\n",
              "  )\n",
              "  (layer3): Sequential(\n",
              "    (0): BasicBlock(\n",
              "      (conv1): ConvReLU2d(\n",
              "        128, 256, kernel_size=(3, 3), stride=(2, 2), padding=(1, 1)\n",
              "        (weight_fake_quant): FakeQuantize(\n",
              "          fake_quant_enabled=tensor([1], dtype=torch.uint8), observer_enabled=tensor([1], dtype=torch.uint8), quant_min=-128, quant_max=127, dtype=torch.qint8, qscheme=torch.per_channel_symmetric, ch_axis=0, scale=tensor([1.]), zero_point=tensor([0], dtype=torch.int32)\n",
              "          (activation_post_process): PerChannelMinMaxObserver(min_val=tensor([]), max_val=tensor([]))\n",
              "        )\n",
              "        (activation_post_process): FakeQuantize(\n",
              "          fake_quant_enabled=tensor([1], dtype=torch.uint8), observer_enabled=tensor([1], dtype=torch.uint8), quant_min=0, quant_max=255, dtype=torch.quint8, qscheme=torch.per_tensor_affine, ch_axis=-1, scale=tensor([1.]), zero_point=tensor([0], dtype=torch.int32)\n",
              "          (activation_post_process): HistogramObserver(min_val=inf, max_val=-inf)\n",
              "        )\n",
              "      )\n",
              "      (bn1): Identity()\n",
              "      (relu1): Identity()\n",
              "      (conv2): Conv2d(\n",
              "        256, 256, kernel_size=(3, 3), stride=(1, 1), padding=(1, 1)\n",
              "        (weight_fake_quant): FakeQuantize(\n",
              "          fake_quant_enabled=tensor([1], dtype=torch.uint8), observer_enabled=tensor([1], dtype=torch.uint8), quant_min=-128, quant_max=127, dtype=torch.qint8, qscheme=torch.per_channel_symmetric, ch_axis=0, scale=tensor([1.]), zero_point=tensor([0], dtype=torch.int32)\n",
              "          (activation_post_process): PerChannelMinMaxObserver(min_val=tensor([]), max_val=tensor([]))\n",
              "        )\n",
              "        (activation_post_process): FakeQuantize(\n",
              "          fake_quant_enabled=tensor([1], dtype=torch.uint8), observer_enabled=tensor([1], dtype=torch.uint8), quant_min=0, quant_max=255, dtype=torch.quint8, qscheme=torch.per_tensor_affine, ch_axis=-1, scale=tensor([1.]), zero_point=tensor([0], dtype=torch.int32)\n",
              "          (activation_post_process): HistogramObserver(min_val=inf, max_val=-inf)\n",
              "        )\n",
              "      )\n",
              "      (bn2): Identity()\n",
              "      (downsample): Sequential(\n",
              "        (0): Conv2d(\n",
              "          128, 256, kernel_size=(1, 1), stride=(2, 2)\n",
              "          (weight_fake_quant): FakeQuantize(\n",
              "            fake_quant_enabled=tensor([1], dtype=torch.uint8), observer_enabled=tensor([1], dtype=torch.uint8), quant_min=-128, quant_max=127, dtype=torch.qint8, qscheme=torch.per_channel_symmetric, ch_axis=0, scale=tensor([1.]), zero_point=tensor([0], dtype=torch.int32)\n",
              "            (activation_post_process): PerChannelMinMaxObserver(min_val=tensor([]), max_val=tensor([]))\n",
              "          )\n",
              "          (activation_post_process): FakeQuantize(\n",
              "            fake_quant_enabled=tensor([1], dtype=torch.uint8), observer_enabled=tensor([1], dtype=torch.uint8), quant_min=0, quant_max=255, dtype=torch.quint8, qscheme=torch.per_tensor_affine, ch_axis=-1, scale=tensor([1.]), zero_point=tensor([0], dtype=torch.int32)\n",
              "            (activation_post_process): HistogramObserver(min_val=inf, max_val=-inf)\n",
              "          )\n",
              "        )\n",
              "        (1): Identity()\n",
              "      )\n",
              "      (add_relu_FF): FloatFunctional(\n",
              "        (activation_post_process): FakeQuantize(\n",
              "          fake_quant_enabled=tensor([1], dtype=torch.uint8), observer_enabled=tensor([1], dtype=torch.uint8), quant_min=0, quant_max=255, dtype=torch.quint8, qscheme=torch.per_tensor_affine, ch_axis=-1, scale=tensor([1.]), zero_point=tensor([0], dtype=torch.int32)\n",
              "          (activation_post_process): HistogramObserver(min_val=inf, max_val=-inf)\n",
              "        )\n",
              "      )\n",
              "    )\n",
              "    (1): BasicBlock(\n",
              "      (conv1): ConvReLU2d(\n",
              "        256, 256, kernel_size=(3, 3), stride=(1, 1), padding=(1, 1)\n",
              "        (weight_fake_quant): FakeQuantize(\n",
              "          fake_quant_enabled=tensor([1], dtype=torch.uint8), observer_enabled=tensor([1], dtype=torch.uint8), quant_min=-128, quant_max=127, dtype=torch.qint8, qscheme=torch.per_channel_symmetric, ch_axis=0, scale=tensor([1.]), zero_point=tensor([0], dtype=torch.int32)\n",
              "          (activation_post_process): PerChannelMinMaxObserver(min_val=tensor([]), max_val=tensor([]))\n",
              "        )\n",
              "        (activation_post_process): FakeQuantize(\n",
              "          fake_quant_enabled=tensor([1], dtype=torch.uint8), observer_enabled=tensor([1], dtype=torch.uint8), quant_min=0, quant_max=255, dtype=torch.quint8, qscheme=torch.per_tensor_affine, ch_axis=-1, scale=tensor([1.]), zero_point=tensor([0], dtype=torch.int32)\n",
              "          (activation_post_process): HistogramObserver(min_val=inf, max_val=-inf)\n",
              "        )\n",
              "      )\n",
              "      (bn1): Identity()\n",
              "      (relu1): Identity()\n",
              "      (conv2): Conv2d(\n",
              "        256, 256, kernel_size=(3, 3), stride=(1, 1), padding=(1, 1)\n",
              "        (weight_fake_quant): FakeQuantize(\n",
              "          fake_quant_enabled=tensor([1], dtype=torch.uint8), observer_enabled=tensor([1], dtype=torch.uint8), quant_min=-128, quant_max=127, dtype=torch.qint8, qscheme=torch.per_channel_symmetric, ch_axis=0, scale=tensor([1.]), zero_point=tensor([0], dtype=torch.int32)\n",
              "          (activation_post_process): PerChannelMinMaxObserver(min_val=tensor([]), max_val=tensor([]))\n",
              "        )\n",
              "        (activation_post_process): FakeQuantize(\n",
              "          fake_quant_enabled=tensor([1], dtype=torch.uint8), observer_enabled=tensor([1], dtype=torch.uint8), quant_min=0, quant_max=255, dtype=torch.quint8, qscheme=torch.per_tensor_affine, ch_axis=-1, scale=tensor([1.]), zero_point=tensor([0], dtype=torch.int32)\n",
              "          (activation_post_process): HistogramObserver(min_val=inf, max_val=-inf)\n",
              "        )\n",
              "      )\n",
              "      (bn2): Identity()\n",
              "      (add_relu_FF): FloatFunctional(\n",
              "        (activation_post_process): FakeQuantize(\n",
              "          fake_quant_enabled=tensor([1], dtype=torch.uint8), observer_enabled=tensor([1], dtype=torch.uint8), quant_min=0, quant_max=255, dtype=torch.quint8, qscheme=torch.per_tensor_affine, ch_axis=-1, scale=tensor([1.]), zero_point=tensor([0], dtype=torch.int32)\n",
              "          (activation_post_process): HistogramObserver(min_val=inf, max_val=-inf)\n",
              "        )\n",
              "      )\n",
              "    )\n",
              "  )\n",
              "  (layer4): Sequential(\n",
              "    (0): BasicBlock(\n",
              "      (conv1): ConvReLU2d(\n",
              "        256, 512, kernel_size=(3, 3), stride=(2, 2), padding=(1, 1)\n",
              "        (weight_fake_quant): FakeQuantize(\n",
              "          fake_quant_enabled=tensor([1], dtype=torch.uint8), observer_enabled=tensor([1], dtype=torch.uint8), quant_min=-128, quant_max=127, dtype=torch.qint8, qscheme=torch.per_channel_symmetric, ch_axis=0, scale=tensor([1.]), zero_point=tensor([0], dtype=torch.int32)\n",
              "          (activation_post_process): PerChannelMinMaxObserver(min_val=tensor([]), max_val=tensor([]))\n",
              "        )\n",
              "        (activation_post_process): FakeQuantize(\n",
              "          fake_quant_enabled=tensor([1], dtype=torch.uint8), observer_enabled=tensor([1], dtype=torch.uint8), quant_min=0, quant_max=255, dtype=torch.quint8, qscheme=torch.per_tensor_affine, ch_axis=-1, scale=tensor([1.]), zero_point=tensor([0], dtype=torch.int32)\n",
              "          (activation_post_process): HistogramObserver(min_val=inf, max_val=-inf)\n",
              "        )\n",
              "      )\n",
              "      (bn1): Identity()\n",
              "      (relu1): Identity()\n",
              "      (conv2): Conv2d(\n",
              "        512, 512, kernel_size=(3, 3), stride=(1, 1), padding=(1, 1)\n",
              "        (weight_fake_quant): FakeQuantize(\n",
              "          fake_quant_enabled=tensor([1], dtype=torch.uint8), observer_enabled=tensor([1], dtype=torch.uint8), quant_min=-128, quant_max=127, dtype=torch.qint8, qscheme=torch.per_channel_symmetric, ch_axis=0, scale=tensor([1.]), zero_point=tensor([0], dtype=torch.int32)\n",
              "          (activation_post_process): PerChannelMinMaxObserver(min_val=tensor([]), max_val=tensor([]))\n",
              "        )\n",
              "        (activation_post_process): FakeQuantize(\n",
              "          fake_quant_enabled=tensor([1], dtype=torch.uint8), observer_enabled=tensor([1], dtype=torch.uint8), quant_min=0, quant_max=255, dtype=torch.quint8, qscheme=torch.per_tensor_affine, ch_axis=-1, scale=tensor([1.]), zero_point=tensor([0], dtype=torch.int32)\n",
              "          (activation_post_process): HistogramObserver(min_val=inf, max_val=-inf)\n",
              "        )\n",
              "      )\n",
              "      (bn2): Identity()\n",
              "      (downsample): Sequential(\n",
              "        (0): Conv2d(\n",
              "          256, 512, kernel_size=(1, 1), stride=(2, 2)\n",
              "          (weight_fake_quant): FakeQuantize(\n",
              "            fake_quant_enabled=tensor([1], dtype=torch.uint8), observer_enabled=tensor([1], dtype=torch.uint8), quant_min=-128, quant_max=127, dtype=torch.qint8, qscheme=torch.per_channel_symmetric, ch_axis=0, scale=tensor([1.]), zero_point=tensor([0], dtype=torch.int32)\n",
              "            (activation_post_process): PerChannelMinMaxObserver(min_val=tensor([]), max_val=tensor([]))\n",
              "          )\n",
              "          (activation_post_process): FakeQuantize(\n",
              "            fake_quant_enabled=tensor([1], dtype=torch.uint8), observer_enabled=tensor([1], dtype=torch.uint8), quant_min=0, quant_max=255, dtype=torch.quint8, qscheme=torch.per_tensor_affine, ch_axis=-1, scale=tensor([1.]), zero_point=tensor([0], dtype=torch.int32)\n",
              "            (activation_post_process): HistogramObserver(min_val=inf, max_val=-inf)\n",
              "          )\n",
              "        )\n",
              "        (1): Identity()\n",
              "      )\n",
              "      (add_relu_FF): FloatFunctional(\n",
              "        (activation_post_process): FakeQuantize(\n",
              "          fake_quant_enabled=tensor([1], dtype=torch.uint8), observer_enabled=tensor([1], dtype=torch.uint8), quant_min=0, quant_max=255, dtype=torch.quint8, qscheme=torch.per_tensor_affine, ch_axis=-1, scale=tensor([1.]), zero_point=tensor([0], dtype=torch.int32)\n",
              "          (activation_post_process): HistogramObserver(min_val=inf, max_val=-inf)\n",
              "        )\n",
              "      )\n",
              "    )\n",
              "    (1): BasicBlock(\n",
              "      (conv1): ConvReLU2d(\n",
              "        512, 512, kernel_size=(3, 3), stride=(1, 1), padding=(1, 1)\n",
              "        (weight_fake_quant): FakeQuantize(\n",
              "          fake_quant_enabled=tensor([1], dtype=torch.uint8), observer_enabled=tensor([1], dtype=torch.uint8), quant_min=-128, quant_max=127, dtype=torch.qint8, qscheme=torch.per_channel_symmetric, ch_axis=0, scale=tensor([1.]), zero_point=tensor([0], dtype=torch.int32)\n",
              "          (activation_post_process): PerChannelMinMaxObserver(min_val=tensor([]), max_val=tensor([]))\n",
              "        )\n",
              "        (activation_post_process): FakeQuantize(\n",
              "          fake_quant_enabled=tensor([1], dtype=torch.uint8), observer_enabled=tensor([1], dtype=torch.uint8), quant_min=0, quant_max=255, dtype=torch.quint8, qscheme=torch.per_tensor_affine, ch_axis=-1, scale=tensor([1.]), zero_point=tensor([0], dtype=torch.int32)\n",
              "          (activation_post_process): HistogramObserver(min_val=inf, max_val=-inf)\n",
              "        )\n",
              "      )\n",
              "      (bn1): Identity()\n",
              "      (relu1): Identity()\n",
              "      (conv2): Conv2d(\n",
              "        512, 512, kernel_size=(3, 3), stride=(1, 1), padding=(1, 1)\n",
              "        (weight_fake_quant): FakeQuantize(\n",
              "          fake_quant_enabled=tensor([1], dtype=torch.uint8), observer_enabled=tensor([1], dtype=torch.uint8), quant_min=-128, quant_max=127, dtype=torch.qint8, qscheme=torch.per_channel_symmetric, ch_axis=0, scale=tensor([1.]), zero_point=tensor([0], dtype=torch.int32)\n",
              "          (activation_post_process): PerChannelMinMaxObserver(min_val=tensor([]), max_val=tensor([]))\n",
              "        )\n",
              "        (activation_post_process): FakeQuantize(\n",
              "          fake_quant_enabled=tensor([1], dtype=torch.uint8), observer_enabled=tensor([1], dtype=torch.uint8), quant_min=0, quant_max=255, dtype=torch.quint8, qscheme=torch.per_tensor_affine, ch_axis=-1, scale=tensor([1.]), zero_point=tensor([0], dtype=torch.int32)\n",
              "          (activation_post_process): HistogramObserver(min_val=inf, max_val=-inf)\n",
              "        )\n",
              "      )\n",
              "      (bn2): Identity()\n",
              "      (add_relu_FF): FloatFunctional(\n",
              "        (activation_post_process): FakeQuantize(\n",
              "          fake_quant_enabled=tensor([1], dtype=torch.uint8), observer_enabled=tensor([1], dtype=torch.uint8), quant_min=0, quant_max=255, dtype=torch.quint8, qscheme=torch.per_tensor_affine, ch_axis=-1, scale=tensor([1.]), zero_point=tensor([0], dtype=torch.int32)\n",
              "          (activation_post_process): HistogramObserver(min_val=inf, max_val=-inf)\n",
              "        )\n",
              "      )\n",
              "    )\n",
              "  )\n",
              "  (avgpool): AdaptiveAvgPool2d(output_size=(1, 1))\n",
              "  (fc): Linear(\n",
              "    in_features=512, out_features=1000, bias=True\n",
              "    (weight_fake_quant): FakeQuantize(\n",
              "      fake_quant_enabled=tensor([1], dtype=torch.uint8), observer_enabled=tensor([1], dtype=torch.uint8), quant_min=-128, quant_max=127, dtype=torch.qint8, qscheme=torch.per_channel_symmetric, ch_axis=0, scale=tensor([1.]), zero_point=tensor([0], dtype=torch.int32)\n",
              "      (activation_post_process): PerChannelMinMaxObserver(min_val=tensor([]), max_val=tensor([]))\n",
              "    )\n",
              "    (activation_post_process): FakeQuantize(\n",
              "      fake_quant_enabled=tensor([1], dtype=torch.uint8), observer_enabled=tensor([1], dtype=torch.uint8), quant_min=0, quant_max=255, dtype=torch.quint8, qscheme=torch.per_tensor_affine, ch_axis=-1, scale=tensor([1.]), zero_point=tensor([0], dtype=torch.int32)\n",
              "      (activation_post_process): HistogramObserver(min_val=inf, max_val=-inf)\n",
              "    )\n",
              "  )\n",
              "  (quant): QuantStub(\n",
              "    (activation_post_process): FakeQuantize(\n",
              "      fake_quant_enabled=tensor([1], dtype=torch.uint8), observer_enabled=tensor([1], dtype=torch.uint8), quant_min=0, quant_max=255, dtype=torch.quint8, qscheme=torch.per_tensor_affine, ch_axis=-1, scale=tensor([1.]), zero_point=tensor([0], dtype=torch.int32)\n",
              "      (activation_post_process): HistogramObserver(min_val=inf, max_val=-inf)\n",
              "    )\n",
              "  )\n",
              "  (dequant): DeQuantStub()\n",
              ")"
            ]
          },
          "execution_count": 128,
          "metadata": {},
          "output_type": "execute_result"
        }
      ],
      "source": [
        "from torch.ao.quantization.fake_quantize import FakeQuantize\n",
        "activation_qconfig = FakeQuantize.with_args(\n",
        "    observer=torch.ao.quantization.observer.HistogramObserver.with_args(\n",
        "        quant_min=0,\n",
        "        quant_max=255,\n",
        "        dtype=torch.quint8,\n",
        "        qscheme=torch.per_tensor_affine,\n",
        "    )\n",
        ")\n",
        "\n",
        "weight_qconfig = FakeQuantize.with_args(\n",
        "    observer=torch.ao.quantization.observer.PerChannelMinMaxObserver.with_args(\n",
        "        quant_min=-128,\n",
        "        quant_max=127,\n",
        "        dtype=torch.qint8,\n",
        "        qscheme=torch.per_channel_symmetric,\n",
        "    )\n",
        ")\n",
        "\n",
        "qconfig = torch.quantization.QConfig(activation=activation_qconfig,\n",
        "                                      weight=weight_qconfig)\n",
        "fused_model.qconfig = qconfig\n",
        "\n",
        "fused_model.train()\n",
        "fake_quant_model = torch.ao.quantization.prepare_qat(fused_model)\n",
        "fake_quant_model"
      ]
    },
    {
      "cell_type": "code",
      "execution_count": 129,
      "metadata": {
        "colab": {
          "base_uri": "https://localhost:8080/"
        },
        "id": "YguvooU2rl7n",
        "outputId": "379f2bbf-5085-434c-8fd1-daed6c501742"
      },
      "outputs": [
        {
          "name": "stdout",
          "output_type": "stream",
          "text": [
            "\n",
            "Fake quant - PTQ\n",
            "goldfish 0.8090365529060364\n",
            "axolotl 0.13504262268543243\n",
            "tench 0.022541021928191185\n",
            "sturgeon 0.00920926034450531\n",
            "puffer 0.0070404428988695145\n",
            "\n",
            "Fake quant - post-PTQ\n",
            "goldfish 0.8090365529060364\n",
            "axolotl 0.13504262268543243\n",
            "tench 0.022541021928191185\n",
            "sturgeon 0.00920926034450531\n",
            "puffer 0.0070404428988695145\n",
            "\n",
            "Converted model\n",
            "goldfish 0.7802646160125732\n",
            "axolotl 0.15577368438243866\n",
            "tench 0.026001403108239174\n",
            "sturgeon 0.011617783457040787\n",
            "puffer 0.006790062412619591\n"
          ]
        }
      ],
      "source": [
        "print(\"\\nFake quant - PTQ\")\n",
        "evaluate(fake_quant_model, 'cpu')\n",
        "\n",
        "fake_quant_model.apply(torch.ao.quantization.fake_quantize.disable_observer)\n",
        "\n",
        "print(\"\\nFake quant - post-PTQ\")\n",
        "evaluate(fake_quant_model, 'cpu')\n",
        "\n",
        "\n",
        "# Step 5: convert (true int8 model)\n",
        "torch.backends.quantized.engine = 'qnnpack'\n",
        "converted_model = torch.ao.quantization.convert(fake_quant_model)\n",
        "\n",
        "print(\"\\nConverted model\")\n",
        "evaluate(converted_model, 'cpu')"
      ]
    },
    {
      "cell_type": "code",
      "execution_count": 130,
      "metadata": {
        "colab": {
          "base_uri": "https://localhost:8080/"
        },
        "id": "-CpaS6IUax6K",
        "outputId": "022dbf6c-f337-488a-a3b6-de4fba04f479"
      },
      "outputs": [
        {
          "name": "stdout",
          "output_type": "stream",
          "text": [
            "Model size: 11.83 MB\n"
          ]
        },
        {
          "data": {
            "text/plain": [
              "11.834198"
            ]
          },
          "execution_count": 130,
          "metadata": {},
          "output_type": "execute_result"
        }
      ],
      "source": [
        "get_model_size(converted_model)"
      ]
    },
    {
      "cell_type": "code",
      "execution_count": 131,
      "metadata": {},
      "outputs": [
        {
          "name": "stdout",
          "output_type": "stream",
          "text": [
            "Inference time (avg over 50): 19.48 ms\n"
          ]
        },
        {
          "data": {
            "text/plain": [
              "0.019482417106628416"
            ]
          },
          "execution_count": 131,
          "metadata": {},
          "output_type": "execute_result"
        }
      ],
      "source": [
        "measure_inference_time(converted_model)"
      ]
    },
    {
      "cell_type": "code",
      "execution_count": 132,
      "metadata": {
        "colab": {
          "base_uri": "https://localhost:8080/"
        },
        "id": "4H02_4vL3B4n",
        "outputId": "c1f1ace4-c54b-436a-d0ec-da9480b67eab"
      },
      "outputs": [
        {
          "data": {
            "text/plain": [
              "ResNet(\n",
              "  (conv1): QuantizedConvReLU2d(3, 64, kernel_size=(7, 7), stride=(2, 2), scale=0.00305533641949296, zero_point=0, padding=(3, 3))\n",
              "  (bn1): Identity()\n",
              "  (relu): Identity()\n",
              "  (maxpool): MaxPool2d(kernel_size=3, stride=2, padding=1, dilation=1, ceil_mode=False)\n",
              "  (layer1): Sequential(\n",
              "    (0): BasicBlock(\n",
              "      (conv1): QuantizedConvReLU2d(64, 64, kernel_size=(3, 3), stride=(1, 1), scale=0.002219036454334855, zero_point=0, padding=(1, 1))\n",
              "      (bn1): Identity()\n",
              "      (relu1): Identity()\n",
              "      (conv2): QuantizedConv2d(64, 64, kernel_size=(3, 3), stride=(1, 1), scale=0.013336235657334328, zero_point=127, padding=(1, 1))\n",
              "      (bn2): Identity()\n",
              "      (add_relu_FF): QFunctional(\n",
              "        scale=0.007735367398709059, zero_point=0\n",
              "        (activation_post_process): Identity()\n",
              "      )\n",
              "    )\n",
              "    (1): BasicBlock(\n",
              "      (conv1): QuantizedConvReLU2d(64, 64, kernel_size=(3, 3), stride=(1, 1), scale=0.004394977353513241, zero_point=0, padding=(1, 1))\n",
              "      (bn1): Identity()\n",
              "      (relu1): Identity()\n",
              "      (conv2): QuantizedConv2d(64, 64, kernel_size=(3, 3), stride=(1, 1), scale=0.015967005863785744, zero_point=144, padding=(1, 1))\n",
              "      (bn2): Identity()\n",
              "      (add_relu_FF): QFunctional(\n",
              "        scale=0.011056358925998211, zero_point=0\n",
              "        (activation_post_process): Identity()\n",
              "      )\n",
              "    )\n",
              "  )\n",
              "  (layer2): Sequential(\n",
              "    (0): BasicBlock(\n",
              "      (conv1): QuantizedConvReLU2d(64, 128, kernel_size=(3, 3), stride=(2, 2), scale=0.005023206118494272, zero_point=0, padding=(1, 1))\n",
              "      (bn1): Identity()\n",
              "      (relu1): Identity()\n",
              "      (conv2): QuantizedConv2d(128, 128, kernel_size=(3, 3), stride=(1, 1), scale=0.017707210034132004, zero_point=90, padding=(1, 1))\n",
              "      (bn2): Identity()\n",
              "      (downsample): Sequential(\n",
              "        (0): QuantizedConv2d(64, 128, kernel_size=(1, 1), stride=(2, 2), scale=0.00866786204278469, zero_point=112)\n",
              "        (1): Identity()\n",
              "      )\n",
              "      (add_relu_FF): QFunctional(\n",
              "        scale=0.009186672046780586, zero_point=0\n",
              "        (activation_post_process): Identity()\n",
              "      )\n",
              "    )\n",
              "    (1): BasicBlock(\n",
              "      (conv1): QuantizedConvReLU2d(128, 128, kernel_size=(3, 3), stride=(1, 1), scale=0.005754124838858843, zero_point=0, padding=(1, 1))\n",
              "      (bn1): Identity()\n",
              "      (relu1): Identity()\n",
              "      (conv2): QuantizedConv2d(128, 128, kernel_size=(3, 3), stride=(1, 1), scale=0.016820408403873444, zero_point=135, padding=(1, 1))\n",
              "      (bn2): Identity()\n",
              "      (add_relu_FF): QFunctional(\n",
              "        scale=0.012269865721464157, zero_point=0\n",
              "        (activation_post_process): Identity()\n",
              "      )\n",
              "    )\n",
              "  )\n",
              "  (layer3): Sequential(\n",
              "    (0): BasicBlock(\n",
              "      (conv1): QuantizedConvReLU2d(128, 256, kernel_size=(3, 3), stride=(2, 2), scale=0.00758524751290679, zero_point=0, padding=(1, 1))\n",
              "      (bn1): Identity()\n",
              "      (relu1): Identity()\n",
              "      (conv2): QuantizedConv2d(256, 256, kernel_size=(3, 3), stride=(1, 1), scale=0.021688444539904594, zero_point=83, padding=(1, 1))\n",
              "      (bn2): Identity()\n",
              "      (downsample): Sequential(\n",
              "        (0): QuantizedConv2d(128, 256, kernel_size=(1, 1), stride=(2, 2), scale=0.00595097616314888, zero_point=180)\n",
              "        (1): Identity()\n",
              "      )\n",
              "      (add_relu_FF): QFunctional(\n",
              "        scale=0.01135631836950779, zero_point=0\n",
              "        (activation_post_process): Identity()\n",
              "      )\n",
              "    )\n",
              "    (1): BasicBlock(\n",
              "      (conv1): QuantizedConvReLU2d(256, 256, kernel_size=(3, 3), stride=(1, 1), scale=0.005394933745265007, zero_point=0, padding=(1, 1))\n",
              "      (bn1): Identity()\n",
              "      (relu1): Identity()\n",
              "      (conv2): QuantizedConv2d(256, 256, kernel_size=(3, 3), stride=(1, 1), scale=0.016411039978265762, zero_point=152, padding=(1, 1))\n",
              "      (bn2): Identity()\n",
              "      (add_relu_FF): QFunctional(\n",
              "        scale=0.007974398322403431, zero_point=0\n",
              "        (activation_post_process): Identity()\n",
              "      )\n",
              "    )\n",
              "  )\n",
              "  (layer4): Sequential(\n",
              "    (0): BasicBlock(\n",
              "      (conv1): QuantizedConvReLU2d(256, 512, kernel_size=(3, 3), stride=(2, 2), scale=0.003923657350242138, zero_point=0, padding=(1, 1))\n",
              "      (bn1): Identity()\n",
              "      (relu1): Identity()\n",
              "      (conv2): QuantizedConv2d(512, 512, kernel_size=(3, 3), stride=(1, 1), scale=0.01950124464929104, zero_point=121, padding=(1, 1))\n",
              "      (bn2): Identity()\n",
              "      (downsample): Sequential(\n",
              "        (0): QuantizedConv2d(256, 512, kernel_size=(1, 1), stride=(2, 2), scale=0.01462660450488329, zero_point=124)\n",
              "        (1): Identity()\n",
              "      )\n",
              "      (add_relu_FF): QFunctional(\n",
              "        scale=0.0117914117872715, zero_point=0\n",
              "        (activation_post_process): Identity()\n",
              "      )\n",
              "    )\n",
              "    (1): BasicBlock(\n",
              "      (conv1): QuantizedConvReLU2d(512, 512, kernel_size=(3, 3), stride=(1, 1), scale=0.005488987546414137, zero_point=0, padding=(1, 1))\n",
              "      (bn1): Identity()\n",
              "      (relu1): Identity()\n",
              "      (conv2): QuantizedConv2d(512, 512, kernel_size=(3, 3), stride=(1, 1), scale=0.10926572233438492, zero_point=84, padding=(1, 1))\n",
              "      (bn2): Identity()\n",
              "      (add_relu_FF): QFunctional(\n",
              "        scale=0.07688441872596741, zero_point=0\n",
              "        (activation_post_process): Identity()\n",
              "      )\n",
              "    )\n",
              "  )\n",
              "  (avgpool): AdaptiveAvgPool2d(output_size=(1, 1))\n",
              "  (fc): QuantizedLinear(in_features=512, out_features=1000, scale=0.08951269090175629, zero_point=84, qscheme=torch.per_channel_affine)\n",
              "  (quant): Quantize(scale=tensor([0.0038]), zero_point=tensor([0]), dtype=torch.quint8)\n",
              "  (dequant): DeQuantize()\n",
              ")"
            ]
          },
          "execution_count": 132,
          "metadata": {},
          "output_type": "execute_result"
        }
      ],
      "source": [
        "converted_model"
      ]
    },
    {
      "cell_type": "code",
      "execution_count": 133,
      "metadata": {},
      "outputs": [
        {
          "data": {
            "image/png": "[encoded data removed]",
            "text/plain": [
              "<Figure size 640x480 with 1 Axes>"
            ]
          },
          "metadata": {},
          "output_type": "display_data"
        }
      ],
      "source": [
        "import matplotlib.pyplot as plt\n",
        "\n",
        "for name, module in converted_model.named_modules():\n",
        "    if name == \"fc\":\n",
        "        weights = module.weight().dequantize().flatten().numpy()\n",
        "        plt.hist(weights, bins=15)\n",
        "        plt.title(f\"Histogram of Weights in {name}\")\n",
        "        plt.xlabel(\"Weight value\")\n",
        "        plt.ylabel(\"Frequency\")\n",
        "        plt.show()"
      ]
    },
    {
      "cell_type": "code",
      "execution_count": 134,
      "metadata": {
        "id": "oHP2bnCxYruv"
      },
      "outputs": [],
      "source": [
        "def custom_abs(flattened_weights, zero_point, scale):\n",
        "  # Dequantize the weights\n",
        "  dequantized_weights = scale * (flattened_weights.dequantize() - zero_point)\n",
        "\n",
        "  # Calculate the absolute values\n",
        "  absolute_flattened_weights = torch.abs(dequantized_weights)\n",
        "  quantized_absolute_weights = torch.quantize_per_tensor(\n",
        "    absolute_flattened_weights, scale, zero_point, torch.qint8)\n",
        "\n",
        "  return quantized_absolute_weights"
      ]
    },
    {
      "cell_type": "code",
      "execution_count": 135,
      "metadata": {
        "colab": {
          "base_uri": "https://localhost:8080/"
        },
        "id": "TZ4ZYG_T6l26",
        "outputId": "219ef070-b095-4c6b-b010-7d02343cf5cc"
      },
      "outputs": [
        {
          "name": "stdout",
          "output_type": "stream",
          "text": [
            "QuantizedConvReLU2d(3, 64, kernel_size=(7, 7), stride=(2, 2), scale=0.00305533641949296, zero_point=0, padding=(3, 3))\n",
            "QuantizedConvReLU2d(64, 64, kernel_size=(3, 3), stride=(1, 1), scale=0.002219036454334855, zero_point=0, padding=(1, 1))\n",
            "QuantizedConv2d(64, 64, kernel_size=(3, 3), stride=(1, 1), scale=0.013336235657334328, zero_point=127, padding=(1, 1))\n",
            "QuantizedConvReLU2d(64, 64, kernel_size=(3, 3), stride=(1, 1), scale=0.004394977353513241, zero_point=0, padding=(1, 1))\n",
            "QuantizedConv2d(64, 64, kernel_size=(3, 3), stride=(1, 1), scale=0.015967005863785744, zero_point=144, padding=(1, 1))\n",
            "QuantizedConvReLU2d(64, 128, kernel_size=(3, 3), stride=(2, 2), scale=0.005023206118494272, zero_point=0, padding=(1, 1))\n",
            "QuantizedConv2d(128, 128, kernel_size=(3, 3), stride=(1, 1), scale=0.017707210034132004, zero_point=90, padding=(1, 1))\n",
            "QuantizedConvReLU2d(128, 128, kernel_size=(3, 3), stride=(1, 1), scale=0.005754124838858843, zero_point=0, padding=(1, 1))\n",
            "QuantizedConv2d(128, 128, kernel_size=(3, 3), stride=(1, 1), scale=0.016820408403873444, zero_point=135, padding=(1, 1))\n",
            "QuantizedConvReLU2d(128, 256, kernel_size=(3, 3), stride=(2, 2), scale=0.00758524751290679, zero_point=0, padding=(1, 1))\n",
            "QuantizedConv2d(256, 256, kernel_size=(3, 3), stride=(1, 1), scale=0.021688444539904594, zero_point=83, padding=(1, 1))\n",
            "QuantizedConvReLU2d(256, 256, kernel_size=(3, 3), stride=(1, 1), scale=0.005394933745265007, zero_point=0, padding=(1, 1))\n",
            "QuantizedConv2d(256, 256, kernel_size=(3, 3), stride=(1, 1), scale=0.016411039978265762, zero_point=152, padding=(1, 1))\n",
            "QuantizedConvReLU2d(256, 512, kernel_size=(3, 3), stride=(2, 2), scale=0.003923657350242138, zero_point=0, padding=(1, 1))\n",
            "QuantizedConv2d(512, 512, kernel_size=(3, 3), stride=(1, 1), scale=0.01950124464929104, zero_point=121, padding=(1, 1))\n",
            "QuantizedConvReLU2d(512, 512, kernel_size=(3, 3), stride=(1, 1), scale=0.005488987546414137, zero_point=0, padding=(1, 1))\n",
            "QuantizedConv2d(512, 512, kernel_size=(3, 3), stride=(1, 1), scale=0.10926572233438492, zero_point=84, padding=(1, 1))\n"
          ]
        }
      ],
      "source": [
        "import torch.nn.utils.prune as prune\n",
        "import numpy as np\n",
        "\n",
        "for name, module in converted_model.named_modules():\n",
        "  if \"conv1\" in name or \"conv2\" in name:\n",
        "    print(module)\n",
        "    weight = module.weight()\n",
        "    scale = module.scale\n",
        "    zero_point = module.zero_point\n",
        "\n",
        "    # Perform pruning: Setting a fraction of weights to zero (e.g., 30%)\n",
        "    pruning_amount = 0.3\n",
        "    num_weights = weight.numel()\n",
        "    num_pruned_weights = int(pruning_amount * num_weights)\n",
        "\n",
        "    # Flatten the weights, sort by absolute value, and zero out the smallest\n",
        "    zero_point = max(min(zero_point, 127), -128)\n",
        "    weight = custom_abs(weight, zero_point, scale)\n",
        "    flattened_weights = weight.reshape(-1)\n",
        "    sorted_indices = torch.argsort(flattened_weights)\n",
        "\n",
        "    # # Prune the smallest weights\n",
        "    pruned_weights = flattened_weights.clone()\n",
        "    pruned_weights[sorted_indices[:num_pruned_weights]] = 0\n",
        "\n",
        "    # # Reshape pruned weights back to the original shape\n",
        "    pruned_weights = pruned_weights.view_as(weight)\n",
        "\n",
        "    # print(module.weight())\n",
        "    # print(module.bias())\n",
        "    bias = module.bias()\n",
        "    module.set_weight_bias(pruned_weights, bias)\n",
        "\n",
        "  elif \"fc\" in name:\n",
        "    weight, bias = module._weight_bias()\n",
        "    try:\n",
        "      scale = weight.q_scale()\n",
        "      zero_point = weight.q_zero_point()\n",
        "    except:\n",
        "      scale = weight.q_per_channel_scales()\n",
        "      zero_point = weight.q_per_channel_zero_points()\n",
        "      scale = float(scale.mean())\n",
        "      zero_point = int(zero_point.float().mean().round())\n",
        "\n",
        "    # Perform pruning: Setting a fraction of weights to zero (e.g., 30%)\n",
        "    pruning_amount = 0.1\n",
        "    num_weights = weight.numel()\n",
        "    num_pruned_weights = int(pruning_amount * num_weights)\n",
        "\n",
        "    # Flatten the weights, sort by absolute value, and zero out the smallest\n",
        "    zero_point = max(min(zero_point, 127), -128)\n",
        "    weight = custom_abs(weight, zero_point, scale)\n",
        "    flattened_weights = weight.reshape(-1)\n",
        "    sorted_indices = torch.argsort(flattened_weights)\n",
        "\n",
        "    # # Prune the smallest weights\n",
        "    pruned_weights = flattened_weights.clone()\n",
        "    pruned_weights[sorted_indices[:num_pruned_weights]] = 0\n",
        "\n",
        "    # # Reshape pruned weights back to the original shape\n",
        "    pruned_weights = pruned_weights.view_as(weight)\n",
        "\n",
        "    # print(module.weight())\n",
        "    # print(module.bias())\n",
        "    module.set_weight_bias(pruned_weights, bias)"
      ]
    },
    {
      "cell_type": "code",
      "execution_count": 136,
      "metadata": {
        "id": "4uixqK-MZE5p"
      },
      "outputs": [
        {
          "name": "stdout",
          "output_type": "stream",
          "text": [
            "Model size: 11.75 MB\n"
          ]
        },
        {
          "data": {
            "text/plain": [
              "11.748874"
            ]
          },
          "execution_count": 136,
          "metadata": {},
          "output_type": "execute_result"
        }
      ],
      "source": [
        "get_model_size(converted_model)"
      ]
    },
    {
      "cell_type": "code",
      "execution_count": 137,
      "metadata": {},
      "outputs": [
        {
          "name": "stdout",
          "output_type": "stream",
          "text": [
            "Inference time (avg over 50): 19.53 ms\n"
          ]
        },
        {
          "data": {
            "text/plain": [
              "0.01953183650970459"
            ]
          },
          "execution_count": 137,
          "metadata": {},
          "output_type": "execute_result"
        }
      ],
      "source": [
        "measure_inference_time(converted_model)"
      ]
    },
    {
      "cell_type": "code",
      "execution_count": 138,
      "metadata": {},
      "outputs": [
        {
          "name": "stdout",
          "output_type": "stream",
          "text": [
            "tray 0.00109361601062119\n",
            "velvet 0.00109361601062119\n",
            "tabby 0.00109361601062119\n",
            "great white shark 0.0009999769972637296\n",
            "hammerhead 0.0009999769972637296\n"
          ]
        }
      ],
      "source": [
        "evaluate(converted_model, 'cpu')"
      ]
    },
    {
      "cell_type": "code",
      "execution_count": 139,
      "metadata": {},
      "outputs": [
        {
          "name": "stdout",
          "output_type": "stream",
          "text": [
            "\n",
            "conv1\n",
            "bn1\n",
            "relu\n",
            "maxpool\n",
            "layer1\n",
            "layer1.0\n",
            "layer1.0.conv1\n",
            "layer1.0.bn1\n",
            "layer1.0.relu1\n",
            "layer1.0.conv2\n",
            "layer1.0.bn2\n",
            "layer1.0.add_relu_FF\n",
            "layer1.0.add_relu_FF.activation_post_process\n",
            "layer1.1\n",
            "layer1.1.conv1\n",
            "layer1.1.bn1\n",
            "layer1.1.relu1\n",
            "layer1.1.conv2\n",
            "layer1.1.bn2\n",
            "layer1.1.add_relu_FF\n",
            "layer1.1.add_relu_FF.activation_post_process\n",
            "layer2\n",
            "layer2.0\n",
            "layer2.0.conv1\n",
            "layer2.0.bn1\n",
            "layer2.0.relu1\n",
            "layer2.0.conv2\n",
            "layer2.0.bn2\n",
            "layer2.0.downsample\n",
            "layer2.0.downsample.0\n",
            "layer2.0.downsample.1\n",
            "layer2.0.add_relu_FF\n",
            "layer2.0.add_relu_FF.activation_post_process\n",
            "layer2.1\n",
            "layer2.1.conv1\n",
            "layer2.1.bn1\n",
            "layer2.1.relu1\n",
            "layer2.1.conv2\n",
            "layer2.1.bn2\n",
            "layer2.1.add_relu_FF\n",
            "layer2.1.add_relu_FF.activation_post_process\n",
            "layer3\n",
            "layer3.0\n",
            "layer3.0.conv1\n",
            "layer3.0.bn1\n",
            "layer3.0.relu1\n",
            "layer3.0.conv2\n",
            "layer3.0.bn2\n",
            "layer3.0.downsample\n",
            "layer3.0.downsample.0\n",
            "layer3.0.downsample.1\n",
            "layer3.0.add_relu_FF\n",
            "layer3.0.add_relu_FF.activation_post_process\n",
            "layer3.1\n",
            "layer3.1.conv1\n",
            "layer3.1.bn1\n",
            "layer3.1.relu1\n",
            "layer3.1.conv2\n",
            "layer3.1.bn2\n",
            "layer3.1.add_relu_FF\n",
            "layer3.1.add_relu_FF.activation_post_process\n",
            "layer4\n",
            "layer4.0\n",
            "layer4.0.conv1\n",
            "layer4.0.bn1\n",
            "layer4.0.relu1\n",
            "layer4.0.conv2\n",
            "layer4.0.bn2\n",
            "layer4.0.downsample\n",
            "layer4.0.downsample.0\n",
            "layer4.0.downsample.1\n",
            "layer4.0.add_relu_FF\n",
            "layer4.0.add_relu_FF.activation_post_process\n",
            "layer4.1\n",
            "layer4.1.conv1\n",
            "layer4.1.bn1\n",
            "layer4.1.relu1\n",
            "layer4.1.conv2\n",
            "layer4.1.bn2\n",
            "layer4.1.add_relu_FF\n",
            "layer4.1.add_relu_FF.activation_post_process\n",
            "avgpool\n",
            "fc\n",
            "fc._packed_params\n",
            "quant\n",
            "dequant\n"
          ]
        }
      ],
      "source": [
        "for name, module in converted_model.named_modules():\n",
        "  print(name)"
      ]
    },
    {
      "cell_type": "code",
      "execution_count": 140,
      "metadata": {},
      "outputs": [
        {
          "data": {
            "image/png": "[encoded data removed]",
            "text/plain": [
              "<Figure size 640x480 with 1 Axes>"
            ]
          },
          "metadata": {},
          "output_type": "display_data"
        }
      ],
      "source": [
        "import matplotlib.pyplot as plt\n",
        "\n",
        "for name, module in converted_model.named_modules():\n",
        "    if name == \"fc\":\n",
        "        weights = module.weight().dequantize().flatten().numpy()\n",
        "        plt.hist(weights, bins=2)\n",
        "        plt.title(f\"Histogram of Weights in {name}\")\n",
        "        plt.xlabel(\"Weight value\")\n",
        "        plt.ylabel(\"Frequency\")\n",
        "        plt.show()\n"
      ]
    },
    {
      "cell_type": "markdown",
      "metadata": {},
      "source": [
        "Direct Pruning"
      ]
    },
    {
      "cell_type": "code",
      "execution_count": 141,
      "metadata": {},
      "outputs": [
        {
          "name": "stdout",
          "output_type": "stream",
          "text": [
            "bucket 0.008137843571603298\n",
            "plunger 0.006934817414730787\n",
            "hook 0.0060799079947173595\n",
            "ladle 0.005567610263824463\n",
            "water jug 0.005421657580882311\n"
          ]
        }
      ],
      "source": [
        "import torch\n",
        "import torch.nn.utils.prune as prune\n",
        "import torch.nn as nn\n",
        "import torchvision.models as models\n",
        "\n",
        "# Load pretrained ResNet18\n",
        "model = models.resnet18(pretrained=True)\n",
        "\n",
        "# Define pruning amount\n",
        "prune_amount = 0.3  # Prune 30% of weights by magnitude\n",
        "\n",
        "# Apply unstructured pruning to all Conv2d layers\n",
        "for name, module in model.named_modules():\n",
        "    if isinstance(module, nn.Conv2d):\n",
        "        prune.l1_unstructured(module, name='weight', amount=prune_amount)\n",
        "\n",
        "# Optional: Remove pruning reparameterization and make it permanent\n",
        "for name, module in model.named_modules():\n",
        "    if isinstance(module, nn.Conv2d):\n",
        "        prune.remove(module, 'weight')\n",
        "\n",
        "evaluate(model, \"cpu\")\n"
      ]
    },
    {
      "cell_type": "code",
      "execution_count": 142,
      "metadata": {},
      "outputs": [
        {
          "name": "stdout",
          "output_type": "stream",
          "text": [
            "Model size: 46.83 MB\n"
          ]
        },
        {
          "data": {
            "text/plain": [
              "46.828292"
            ]
          },
          "execution_count": 142,
          "metadata": {},
          "output_type": "execute_result"
        }
      ],
      "source": [
        "get_model_size(model)"
      ]
    },
    {
      "cell_type": "code",
      "execution_count": 143,
      "metadata": {},
      "outputs": [
        {
          "name": "stdout",
          "output_type": "stream",
          "text": [
            "Inference time (avg over 50): 15.53 ms\n"
          ]
        },
        {
          "data": {
            "text/plain": [
              "0.015533604621887208"
            ]
          },
          "execution_count": 143,
          "metadata": {},
          "output_type": "execute_result"
        }
      ],
      "source": [
        "measure_inference_time(model)"
      ]
    }
  ],
  "metadata": {
    "accelerator": "GPU",
    "colab": {
      "gpuType": "T4",
      "provenance": []
    },
    "kernelspec": {
      "display_name": "Python 3 (ipykernel)",
      "language": "python",
      "name": "python3"
    },
    "language_info": {
      "codemirror_mode": {
        "name": "ipython",
        "version": 3
      },
      "file_extension": ".py",
      "mimetype": "text/x-python",
      "name": "python",
      "nbconvert_exporter": "python",
      "pygments_lexer": "ipython3",
      "version": "3.12.8"
    }
  },
  "nbformat": 4,
  "nbformat_minor": 0
}
